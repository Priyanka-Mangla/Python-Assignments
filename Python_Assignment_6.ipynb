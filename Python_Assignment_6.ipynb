{
  "nbformat": 4,
  "nbformat_minor": 0,
  "metadata": {
    "colab": {
      "name": "Python Assignment 6.ipynb",
      "provenance": []
    },
    "kernelspec": {
      "name": "python3",
      "display_name": "Python 3"
    },
    "language_info": {
      "name": "python"
    }
  },
  "cells": [
    {
      "cell_type": "markdown",
      "source": [
        "**Python Assignment 6**"
      ],
      "metadata": {
        "id": "DddvhXTWQezA"
      }
    },
    {
      "cell_type": "markdown",
      "source": [
        "1. What are escape characters, and how do you use them?\n",
        "\n",
        "In Python strings, the backslash “ ” is a special character, also called the “escape” character. It is used in representing certain whitespace characters: “\\t” is a tab, “\\n” is a new line, and “\\r” is a carriage return. Finally, “ ” can be used to escape itself: “\\” is the literal backslash character"
      ],
      "metadata": {
        "id": "beL_J-XzQkXX"
      }
    },
    {
      "cell_type": "markdown",
      "source": [
        "2. What do the escape characters n and t stand for?\n",
        "\n",
        "“\\t” is a tab\n",
        "\n",
        "“\\n” is a new line"
      ],
      "metadata": {
        "id": "zVYxF5fIQy-2"
      }
    },
    {
      "cell_type": "markdown",
      "source": [
        "3. What is the way to include backslash characters in a string?"
      ],
      "metadata": {
        "id": "L9QfZ3nSQ17T"
      }
    },
    {
      "cell_type": "markdown",
      "source": [
        "Don't Know the answer"
      ],
      "metadata": {
        "id": "5BvphJhP5Wyq"
      }
    },
    {
      "cell_type": "markdown",
      "source": [
        "4. The string \"Howl's Moving Castle\" is a correct value. Why isn't the single quote character in the word Howl's not escaped a problem?\n",
        "\n",
        "Because the whole string is encapsulated by quotes"
      ],
      "metadata": {
        "id": "c-fawx3VQ4jM"
      }
    },
    {
      "cell_type": "markdown",
      "source": [
        "5. How do you write a string of newlines if you don't want to use the n character?\n",
        "\n",
        "Don't Know the answer\n"
      ],
      "metadata": {
        "id": "pXieQobDQ96_"
      }
    },
    {
      "cell_type": "markdown",
      "source": [
        "6. What are the values of the given expressions?\n",
        "'Hello, world!'[1]\n",
        "'Hello, world!'[0:5]\n",
        "'Hello, world!'[:5]\n",
        "'Hello, world!'[3:]\n"
      ],
      "metadata": {
        "id": "97uWu98zRASR"
      }
    },
    {
      "cell_type": "code",
      "source": [
        "'Hello, world!'[1]"
      ],
      "metadata": {
        "colab": {
          "base_uri": "https://localhost:8080/",
          "height": 35
        },
        "id": "w1x1LQTe6Svg",
        "outputId": "78d97e39-10d6-4a8f-e64d-45d8f3213b6d"
      },
      "execution_count": null,
      "outputs": [
        {
          "output_type": "execute_result",
          "data": {
            "application/vnd.google.colaboratory.intrinsic+json": {
              "type": "string"
            },
            "text/plain": [
              "'e'"
            ]
          },
          "metadata": {},
          "execution_count": 1
        }
      ]
    },
    {
      "cell_type": "code",
      "source": [
        "'Hello, world!'[0:5]"
      ],
      "metadata": {
        "colab": {
          "base_uri": "https://localhost:8080/",
          "height": 35
        },
        "id": "g-g_Vedk6Wk4",
        "outputId": "2aa6edd5-2d93-4d3b-fc9f-a654fe66031f"
      },
      "execution_count": null,
      "outputs": [
        {
          "output_type": "execute_result",
          "data": {
            "application/vnd.google.colaboratory.intrinsic+json": {
              "type": "string"
            },
            "text/plain": [
              "'Hello'"
            ]
          },
          "metadata": {},
          "execution_count": 2
        }
      ]
    },
    {
      "cell_type": "code",
      "source": [
        "'Hello, world!'[:5]"
      ],
      "metadata": {
        "colab": {
          "base_uri": "https://localhost:8080/",
          "height": 35
        },
        "id": "1Wgnqr1u6eYn",
        "outputId": "0125edd6-eceb-4081-91ae-ac45fc266137"
      },
      "execution_count": null,
      "outputs": [
        {
          "output_type": "execute_result",
          "data": {
            "application/vnd.google.colaboratory.intrinsic+json": {
              "type": "string"
            },
            "text/plain": [
              "'Hello'"
            ]
          },
          "metadata": {},
          "execution_count": 3
        }
      ]
    },
    {
      "cell_type": "code",
      "source": [
        "'Hello, world!'[3:]"
      ],
      "metadata": {
        "colab": {
          "base_uri": "https://localhost:8080/",
          "height": 35
        },
        "id": "_KCBZLzV6iZQ",
        "outputId": "871b1550-441d-498a-990f-ec4cb8ddc9da"
      },
      "execution_count": null,
      "outputs": [
        {
          "output_type": "execute_result",
          "data": {
            "application/vnd.google.colaboratory.intrinsic+json": {
              "type": "string"
            },
            "text/plain": [
              "'lo, world!'"
            ]
          },
          "metadata": {},
          "execution_count": 4
        }
      ]
    },
    {
      "cell_type": "markdown",
      "source": [
        "\n",
        "7. What are the values of the following expressions?\n",
        "'Hello'.upper()\n",
        "'Hello'.upper().isupper()\n",
        "'Hello'.upper().lower()"
      ],
      "metadata": {
        "id": "e-xO2T_cRCPT"
      }
    },
    {
      "cell_type": "code",
      "source": [
        "'Hello'.upper()"
      ],
      "metadata": {
        "colab": {
          "base_uri": "https://localhost:8080/",
          "height": 35
        },
        "id": "1YC46xqx6q8r",
        "outputId": "a5acaf7a-32c3-4d4c-8635-6f33fd72e8d1"
      },
      "execution_count": null,
      "outputs": [
        {
          "output_type": "execute_result",
          "data": {
            "application/vnd.google.colaboratory.intrinsic+json": {
              "type": "string"
            },
            "text/plain": [
              "'HELLO'"
            ]
          },
          "metadata": {},
          "execution_count": 5
        }
      ]
    },
    {
      "cell_type": "code",
      "source": [
        "'Hello'.upper().isupper()"
      ],
      "metadata": {
        "colab": {
          "base_uri": "https://localhost:8080/"
        },
        "id": "rv2FupS06sUE",
        "outputId": "50cbcff5-d305-44cc-e429-0aec971e06da"
      },
      "execution_count": null,
      "outputs": [
        {
          "output_type": "execute_result",
          "data": {
            "text/plain": [
              "True"
            ]
          },
          "metadata": {},
          "execution_count": 6
        }
      ]
    },
    {
      "cell_type": "code",
      "source": [
        "'Hello'.upper().lower()"
      ],
      "metadata": {
        "colab": {
          "base_uri": "https://localhost:8080/",
          "height": 35
        },
        "id": "j-4a59iY6yEx",
        "outputId": "8cb8c9c9-7a4e-43d1-c975-6345ac8f91aa"
      },
      "execution_count": null,
      "outputs": [
        {
          "output_type": "execute_result",
          "data": {
            "application/vnd.google.colaboratory.intrinsic+json": {
              "type": "string"
            },
            "text/plain": [
              "'hello'"
            ]
          },
          "metadata": {},
          "execution_count": 7
        }
      ]
    },
    {
      "cell_type": "markdown",
      "source": [
        "\n",
        "8. What are the values of the following expressions?\n",
        "'Remember, remember, the fifth of July.'.split()\n",
        "'-'.join('There can only one.'.split())"
      ],
      "metadata": {
        "id": "tmSHbrd6REBH"
      }
    },
    {
      "cell_type": "code",
      "source": [
        "'Remember, remember, the fifth of July.'.split()\n",
        "'-'.join('There can only one.'.split())"
      ],
      "metadata": {
        "colab": {
          "base_uri": "https://localhost:8080/",
          "height": 35
        },
        "id": "eMgJiQbv7CoK",
        "outputId": "586e779d-11f7-41fe-b323-248506cb7e18"
      },
      "execution_count": null,
      "outputs": [
        {
          "output_type": "execute_result",
          "data": {
            "application/vnd.google.colaboratory.intrinsic+json": {
              "type": "string"
            },
            "text/plain": [
              "'There-can-only-one.'"
            ]
          },
          "metadata": {},
          "execution_count": 10
        }
      ]
    },
    {
      "cell_type": "markdown",
      "source": [
        "9. What are the methods for right-justifying, left-justifying, and centering a string?\n",
        "\n",
        "Python String | ljust(), rjust(), center()\n",
        "These functions respectively left-justify, right-justify and center a string in a field of given width."
      ],
      "metadata": {
        "id": "zQ08nkJyRGaO"
      }
    },
    {
      "cell_type": "markdown",
      "source": [
        "10. What is the best way to remove whitespace characters from the start or end?"
      ],
      "metadata": {
        "id": "kF0z76B2RI3F"
      }
    },
    {
      "cell_type": "code",
      "source": [
        "name = '  Chris Gayle  '\n",
        "#remove spaces from left\n",
        "print (name.lstrip())\n",
        "\n",
        "#remove spaces from right\n",
        "print (name.rstrip())\n",
        "\n",
        "#remove spaces from both side\n",
        "print (name.strip())"
      ],
      "metadata": {
        "colab": {
          "base_uri": "https://localhost:8080/"
        },
        "id": "wjV6GRF083IJ",
        "outputId": "42e14845-6ddb-47be-d7f9-327dccc74d2c"
      },
      "execution_count": null,
      "outputs": [
        {
          "output_type": "stream",
          "name": "stdout",
          "text": [
            "Chris Gayle  \n",
            "  Chris Gayle\n",
            "Chris Gayle\n"
          ]
        }
      ]
    }
  ]
}