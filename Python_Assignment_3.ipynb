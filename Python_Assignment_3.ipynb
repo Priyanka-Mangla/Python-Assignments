{
  "nbformat": 4,
  "nbformat_minor": 0,
  "metadata": {
    "colab": {
      "name": "Python Assignment 3.ipynb",
      "provenance": [],
      "collapsed_sections": []
    },
    "kernelspec": {
      "name": "python3",
      "display_name": "Python 3"
    },
    "language_info": {
      "name": "python"
    }
  },
  "cells": [
    {
      "cell_type": "markdown",
      "source": [
        "**PYTHON ASSIGNMENT 3**"
      ],
      "metadata": {
        "id": "9sgo4MocEC42"
      }
    },
    {
      "cell_type": "markdown",
      "source": [
        "1. Why are functions advantageous to have in your programs?\n",
        "\n",
        "Functions reduce the need for duplicate code. This makes programs shorter, easier to read, and easier to update.\n"
      ],
      "metadata": {
        "id": "qszInyd80qj5"
      }
    },
    {
      "cell_type": "markdown",
      "source": [
        "2. When does the code in a function run: when it's specified or when it's called?\n",
        "\n",
        "When a function is \"called\" the program \"leaves\" the current section of code and begins to execute the first line inside the function."
      ],
      "metadata": {
        "id": "MD_WdDMRw15o"
      }
    },
    {
      "cell_type": "markdown",
      "source": [
        "3. What statement creates a function?\n",
        "\n",
        "The “def” keyword is a statement for defining a function in Python. You start a function with the def keyword, specify a name followed by a colon (:) sign. The “def” call creates the function object and assigns it to the name given. You can further re-assign the same function object to other names."
      ],
      "metadata": {
        "id": "nxLd7bkaxbt7"
      }
    },
    {
      "cell_type": "markdown",
      "source": [
        "4. What is the difference between a function and a function call?\n",
        "\n",
        "A function is procedure to achieve a particular result while function call is using this function to achive that task."
      ],
      "metadata": {
        "id": "_IqKmxmdxc1y"
      }
    },
    {
      "cell_type": "markdown",
      "source": [
        "Function"
      ],
      "metadata": {
        "id": "4dt0nR2v04gY"
      }
    },
    {
      "cell_type": "code",
      "source": [
        "def get_square(x):\n",
        "  return x*x\n"
      ],
      "metadata": {
        "id": "yWEormVa0o3x"
      },
      "execution_count": 22,
      "outputs": []
    },
    {
      "cell_type": "markdown",
      "source": [
        "Callinf a function in the main program"
      ],
      "metadata": {
        "id": "3D37bdBP06_W"
      }
    },
    {
      "cell_type": "code",
      "source": [
        "a = 2\n",
        "b = 3\n",
        "c = 4\n",
        "result = get_square(a)+get_square(b)+get_square(c)\n",
        "result\n"
      ],
      "metadata": {
        "colab": {
          "base_uri": "https://localhost:8080/"
        },
        "id": "7SMljMLv03PX",
        "outputId": "dedf1031-1ac8-43d5-aae6-74e511dea673"
      },
      "execution_count": 32,
      "outputs": [
        {
          "output_type": "execute_result",
          "data": {
            "text/plain": [
              "29"
            ]
          },
          "metadata": {},
          "execution_count": 32
        }
      ]
    },
    {
      "cell_type": "markdown",
      "source": [
        "5. How many global scopes are there in a Python program? How many local scopes?\n",
        "\n",
        "There is one global scope, and a local scope is created whenever a function is called.\n",
        "\n",
        "Global Scope: Name assigned at top level of a module\n",
        "\n",
        "Local Scope: Name assigned inside a fubnction def\n",
        " \n"
      ],
      "metadata": {
        "id": "ZD-mYEO-xfGQ"
      }
    },
    {
      "cell_type": "code",
      "source": [
        "# global scope\n",
        "X = 99                # X and func assigned in module: global\n",
        "          \n",
        "def func(Y):          # Y and Z assigned in function: locals\n",
        "    # local scope\n",
        "    Z = X + Y         # X is not assigned, so it's a global\n",
        "    return Z\n",
        "\n",
        "func(1)               # func in module: result=100"
      ],
      "metadata": {
        "colab": {
          "base_uri": "https://localhost:8080/"
        },
        "id": "T29LDeeX692d",
        "outputId": "84a3079c-7971-4633-f93c-7b7f0943fe34"
      },
      "execution_count": 33,
      "outputs": [
        {
          "output_type": "execute_result",
          "data": {
            "text/plain": [
              "100"
            ]
          },
          "metadata": {},
          "execution_count": 33
        }
      ]
    },
    {
      "cell_type": "markdown",
      "source": [
        "6. What happens to variables in a local scope when the function call returns?\n",
        "\n",
        "When the execution of the function terminates (returns), the local variables are destroyed. Codelens helps you visualize this because the local variables disappear after the function returns."
      ],
      "metadata": {
        "id": "LAvBoFKJxhOm"
      }
    },
    {
      "cell_type": "markdown",
      "source": [
        "7. What is the concept of a return value? Is it possible to have a return value in an expression?\n",
        "\n",
        "\n",
        "A return statement is used to end the execution of the function call and “returns” the result (value of the expression following the return keyword) to the caller. The statements after the return statements are not executed. If the return statement is without any expression, then the special value None is returned."
      ],
      "metadata": {
        "id": "55bNSyO4xjhf"
      }
    },
    {
      "cell_type": "markdown",
      "source": [
        "8. If a function does not have a return statement, what is the return value of a call to that function?\n",
        "\n",
        "If a function doesn't specify a return value, it returns None ."
      ],
      "metadata": {
        "id": "ckBlAu04xlnz"
      }
    },
    {
      "cell_type": "markdown",
      "source": [
        "9. How do you make a function variable refer to the global variable?\n",
        "\n",
        "The global Keyword\n",
        "Normally, when you create a variable inside a function, that variable is local, and can only be used inside that function. To create a global variable inside a function, you can use the global keyword."
      ],
      "metadata": {
        "id": "WOZPrP2Kxnyg"
      }
    },
    {
      "cell_type": "markdown",
      "source": [
        "To change the value of a global variable inside a function, refer to the variable by using the global keyword:"
      ],
      "metadata": {
        "id": "nt6ffMv4_aKq"
      }
    },
    {
      "cell_type": "code",
      "source": [
        "x = \"awesome\"\n",
        "\n",
        "def myfunc():\n",
        "  global x\n",
        "  x = \"fantastic\"\n",
        "\n",
        "myfunc()\n",
        "\n",
        "print(\"Python is \" + x)"
      ],
      "metadata": {
        "colab": {
          "base_uri": "https://localhost:8080/"
        },
        "id": "2eLRj2Q6_UmM",
        "outputId": "f7e33032-4adc-421a-abc0-aed9604f81f4"
      },
      "execution_count": 34,
      "outputs": [
        {
          "output_type": "stream",
          "name": "stdout",
          "text": [
            "Python is fantastic\n"
          ]
        }
      ]
    },
    {
      "cell_type": "markdown",
      "source": [
        "10. What is the data type of None?\n",
        "\n",
        "None is used to define a null value. It is not the same as an empty string, False, or a zero. It is a data type of the class NoneType object. Assigning a value of None to a variable is one way to reset it to its original, empty state."
      ],
      "metadata": {
        "id": "H0xd8jeIxqCf"
      }
    },
    {
      "cell_type": "markdown",
      "source": [
        "11. What does the sentence import are allyourpetsnamederic do?\n",
        "\n",
        "That import statement imports a module named areallyourpetsnamederic. "
      ],
      "metadata": {
        "id": "e1w6k86Xxr3L"
      }
    },
    {
      "cell_type": "markdown",
      "source": [
        "12. If you had a bacon() feature in a spam module, what would you call it after importing spam?"
      ],
      "metadata": {
        "id": "4Rd9NuFextzr"
      }
    },
    {
      "cell_type": "code",
      "source": [
        "import spam\n",
        "\n",
        "spam.bacon()"
      ],
      "metadata": {
        "id": "KaMLGdegBaLX"
      },
      "execution_count": null,
      "outputs": []
    },
    {
      "cell_type": "markdown",
      "source": [
        "13. What can you do to save a programme from crashing if it encounters an error?\n",
        "\n",
        "Place the line of code that might cause an error in a try clause."
      ],
      "metadata": {
        "id": "es2XKUtPxv8y"
      }
    },
    {
      "cell_type": "markdown",
      "source": [
        "14. What is the purpose of the try clause? What is the purpose of the except clause?\n",
        "\n",
        "The try block is used to check some code for errors i.e the code inside the try block will execute when there is no error in the program. Whereas the code inside the except block will execute whenever the program encounters some error in the preceding try block.\n",
        " "
      ],
      "metadata": {
        "id": "wINp9w3cxx4m"
      }
    },
    {
      "cell_type": "code",
      "source": [
        "def divide(x, y):\n",
        "    try:\n",
        "   \n",
        "        result = x // y\n",
        "        print(\"Yeah ! Your answer is :\", result)\n",
        "    except ZeroDivisionError:\n",
        "        print(\"Sorry ! You are dividing by zero \")\n",
        " \n",
        "\n",
        "divide(3, 2)"
      ],
      "metadata": {
        "colab": {
          "base_uri": "https://localhost:8080/"
        },
        "id": "z9X3N5ZvDy4c",
        "outputId": "2735ec77-41df-4899-b27c-1f95ea2e116b"
      },
      "execution_count": 36,
      "outputs": [
        {
          "output_type": "stream",
          "name": "stdout",
          "text": [
            "Yeah ! Your answer is : 1\n"
          ]
        }
      ]
    },
    {
      "cell_type": "code",
      "source": [
        "divide(3, 0)"
      ],
      "metadata": {
        "colab": {
          "base_uri": "https://localhost:8080/"
        },
        "id": "mIlTIvmXD2q4",
        "outputId": "192277ed-c94f-4bc8-ee85-21235c655ceb"
      },
      "execution_count": 37,
      "outputs": [
        {
          "output_type": "stream",
          "name": "stdout",
          "text": [
            "Sorry ! You are dividing by zero \n"
          ]
        }
      ]
    }
  ]
}